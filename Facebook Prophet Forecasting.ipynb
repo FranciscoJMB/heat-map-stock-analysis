{
 "cells": [
  {
   "cell_type": "code",
   "execution_count": null,
   "metadata": {},
   "outputs": [],
   "source": [
    "df = df.rename(columns={'Date': 'ds', 'Amount':'y'})\n",
    "#Assuming that your groups are independent from each other and you want to get one prediction for each group, you can group the dataframe by \"Group\" column and run forecast for each group\n",
    "\n"
   ]
  },
  {
   "cell_type": "code",
   "execution_count": null,
   "metadata": {},
   "outputs": [],
   "source": [
    "from fbprophet import Prophet\n",
    "grouped = df.groupby('Group')\n",
    "for g in grouped.groups:\n",
    "    group = grouped.get_group(g)\n",
    "    m = Prophet()\n",
    "    m.fit(group)\n",
    "    future = m.make_future_dataframe(periods=365)\n",
    "    forecast = m.predict(future)\n",
    "    print(forecast.tail())"
   ]
  },
  {
   "cell_type": "code",
   "execution_count": null,
   "metadata": {},
   "outputs": [],
   "source": [
    "final = pd.DataFrame()\n",
    "for g in grouped.groups:\n",
    "    group = grouped.get_group(g)\n",
    "    m = Prophet()\n",
    "    m.fit(group)\n",
    "    future = m.make_future_dataframe(periods=365)\n",
    "    forecast = m.predict(future)    \n",
    "    forecast = forecast.rename(columns={'yhat': 'yhat_'+g})\n",
    "    final = pd.merge(final, forecast.set_index('ds'), how='outer', left_index=True, right_index=True)\n",
    "\n",
    "final = final[['yhat_' + g for g in grouped.groups.keys()]]"
   ]
  }
 ],
 "metadata": {
  "kernelspec": {
   "display_name": "Python 3",
   "language": "python",
   "name": "python3"
  },
  "language_info": {
   "codemirror_mode": {
    "name": "ipython",
    "version": 3
   },
   "file_extension": ".py",
   "mimetype": "text/x-python",
   "name": "python",
   "nbconvert_exporter": "python",
   "pygments_lexer": "ipython3",
   "version": "3.7.7"
  }
 },
 "nbformat": 4,
 "nbformat_minor": 4
}
